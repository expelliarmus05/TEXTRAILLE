{
 "cells": [
  {
   "cell_type": "code",
   "execution_count": null,
   "metadata": {},
   "outputs": [],
   "source": [
    "from codecs import encode\n",
    "from os import path\n",
    "import tkinter as tk\n",
    "from tkinter import *\n",
    "from tkinter import filedialog as fd\n",
    "import easyocr\n",
    "\n",
    "\n",
    "def select_image():\n",
    "    \n",
    "    file_path = fd.askopenfilename(title='select a image')\n",
    "    text1.delete('1.0', END)\n",
    "    text1.insert(tk.END,file_path)\n",
    "    text1.pack()\n",
    "    pass\n",
    "\n",
    "def convert_ocr():\n",
    "    file_loc = text1.get(\"1.0\",'end-1c')\n",
    "    reader = easyocr.Reader(['bn'])\n",
    "    results = reader.readtext(file_loc)\n",
    "    text = ''\n",
    "    for result in results:\n",
    "        text+= result[1]+' '\n",
    "        pass\n",
    "    text2.insert(tk.END,text)\n",
    "    pass\n",
    "\n",
    "\n",
    "root = tk.Tk()\n",
    "root.title(\"Textraille\")\n",
    "root.geometry('1200x700')\n",
    "\n",
    "\n",
    "text1 = Text(root,height=2,width=80)\n",
    "text1.pack()\n",
    "\n",
    "\n",
    "button1 = Button(root, text='Select Image',padx=10,pady=5, command=select_image)\n",
    "button1.pack(pady=10)\n",
    "\n",
    "button2 = Button(root, text='Convert to Text',padx=10,pady=5, command=convert_ocr)\n",
    "button2.pack(pady=10)\n",
    "\n",
    "\n",
    "text2 = Text(root,height=10,width=120)\n",
    "text2.pack()\n",
    "\n",
    "\n",
    "root.mainloop()\n",
    "\n"
   ]
  },
  {
   "cell_type": "code",
   "execution_count": null,
   "metadata": {},
   "outputs": [],
   "source": []
  },
  {
   "cell_type": "code",
   "execution_count": null,
   "metadata": {},
   "outputs": [],
   "source": []
  }
 ],
 "metadata": {
  "kernelspec": {
   "display_name": "Python 3 (ipykernel)",
   "language": "python",
   "name": "python3"
  },
  "language_info": {
   "codemirror_mode": {
    "name": "ipython",
    "version": 3
   },
   "file_extension": ".py",
   "mimetype": "text/x-python",
   "name": "python",
   "nbconvert_exporter": "python",
   "pygments_lexer": "ipython3",
   "version": "3.7.3"
  }
 },
 "nbformat": 4,
 "nbformat_minor": 4
}
