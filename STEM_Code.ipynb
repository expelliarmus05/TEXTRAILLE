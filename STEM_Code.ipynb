{
 "cells": [
  {
   "cell_type": "code",
   "execution_count": 1,
   "metadata": {},
   "outputs": [
    {
     "name": "stdout",
     "output_type": "stream",
     "text": [
      "Requirement already satisfied: nltk in c:\\users\\user\\appdata\\local\\programs\\python\\python37\\lib\\site-packages (3.6.2)\n",
      "Requirement already satisfied: regex in c:\\users\\user\\appdata\\local\\programs\\python\\python37\\lib\\site-packages (from nltk) (2021.8.28)\n",
      "Requirement already satisfied: joblib in c:\\users\\user\\appdata\\local\\programs\\python\\python37\\lib\\site-packages (from nltk) (1.0.1)\n",
      "Requirement already satisfied: click in c:\\users\\user\\appdata\\local\\programs\\python\\python37\\lib\\site-packages (from nltk) (8.0.1)\n",
      "Requirement already satisfied: tqdm in c:\\users\\user\\appdata\\local\\programs\\python\\python37\\lib\\site-packages (from nltk) (4.62.2)\n",
      "Requirement already satisfied: colorama in c:\\users\\user\\appdata\\local\\programs\\python\\python37\\lib\\site-packages (from click->nltk) (0.4.4)\n",
      "Requirement already satisfied: importlib-metadata in c:\\users\\user\\appdata\\local\\programs\\python\\python37\\lib\\site-packages (from click->nltk) (4.8.1)\n",
      "Requirement already satisfied: zipp>=0.5 in c:\\users\\user\\appdata\\local\\programs\\python\\python37\\lib\\site-packages (from importlib-metadata->click->nltk) (3.5.0)\n",
      "Requirement already satisfied: typing-extensions>=3.6.4 in c:\\users\\user\\appdata\\local\\programs\\python\\python37\\lib\\site-packages (from importlib-metadata->click->nltk) (3.10.0.2)\n"
     ]
    }
   ],
   "source": [
    "!pip install nltk"
   ]
  },
  {
   "cell_type": "code",
   "execution_count": 1,
   "metadata": {},
   "outputs": [],
   "source": [
    "from codecs import encode\n",
    "from os import path\n",
    "import tkinter as tk\n",
    "from tkinter import *\n",
    "from tkinter import filedialog as fd\n",
    "import easyocr\n",
    "import csv\n",
    "import nltk\n",
    "import os"
   ]
  },
  {
   "cell_type": "code",
   "execution_count": 2,
   "metadata": {},
   "outputs": [],
   "source": [
    "class my_dictionary(dict):\n",
    "  \n",
    "    \n",
    "    def __init__(self):\n",
    "        self = dict()\n",
    "          \n",
    "    def add(self, key, value):\n",
    "        self[key] = value"
   ]
  },
  {
   "cell_type": "code",
   "execution_count": 3,
   "metadata": {},
   "outputs": [],
   "source": [
    "brail = []\n",
    "vowel_dict = my_dictionary()\n",
    "consonant_dict = my_dictionary()\n",
    "kar_dict = my_dictionary()\n",
    "juktoborno_dict = my_dictionary()\n",
    "juktoborno_3_dict = my_dictionary()\n",
    "number_dict = my_dictionary()\n",
    "punc_dict = my_dictionary()\n",
    "\n",
    "os.chdir(\"G:\\BRAIL\")\n",
    "vowel_link = \"vowels.csv\"\n",
    "consonant_link = \"consonants.csv\"\n",
    "kar_link = \"kar.csv\"\n",
    "number_link = \"numbers.csv\"\n",
    "punc_link = \"signs.csv\"\n",
    "juktoborno_link = \"juktoborno.csv\"\n",
    "juktoborno_3_link = \"juktoborno_3.csv\"\n",
    "\n",
    "with open(vowel_link, encoding='UTF-8') as vowel_csv:\n",
    "    Vowel = csv.reader(vowel_csv, delimiter=\",\", quotechar='|', quoting=csv.QUOTE_MINIMAL)\n",
    "    for each in Vowel:\n",
    "      vowel_dict.add(each[0].strip(\"'\"),each[1].strip(\"'\"))\n",
    "\n",
    "with open(consonant_link, encoding='UTF-8') as consonant_csv:\n",
    "    Consonant = csv.reader(consonant_csv, delimiter=\",\", quotechar='|', quoting=csv.QUOTE_MINIMAL )\n",
    "    for each in Consonant:\n",
    "      consonant_dict.add(each[0].strip(\"'\"),each[1].strip(\"'\"))\n",
    "      consonant_dict.add(\"য়\",\"⠢\")\n",
    "\n",
    "with open(kar_link, encoding='UTF-8') as kar_csv:\n",
    "    Kar = csv.reader(kar_csv, delimiter=\",\", quotechar='|', quoting=csv.QUOTE_MINIMAL)\n",
    "    for each in Kar:\n",
    "      kar_dict.add(each[0].strip(\"'\"),each[1].strip(\"'\"))\n",
    "\n",
    "with open(number_link, encoding='UTF-8') as number_csv:\n",
    "    Number = csv.reader(number_csv, delimiter=\",\", quotechar='|', quoting=csv.QUOTE_MINIMAL)\n",
    "    for each in Number:\n",
    "      number_dict.add(each[0].strip(\"'\"),each[1].strip(\"'\"))\n",
    "\n",
    "with open(punc_link, encoding='UTF-8') as punc_csv:\n",
    "    Punc = csv.reader(punc_csv, delimiter=\",\", quotechar='|', quoting=csv.QUOTE_MINIMAL)\n",
    "    for each in Punc:\n",
    "      punc_dict.add(each[0].strip(\"'\"),each[1].strip(\"'\"))\n",
    "    punc_dict.add(',','⠂')\n",
    "    punc_dict.add(\"'\",'⠂')\n",
    "    punc_dict.add('।','⠲')\n",
    "    punc_dict.add('–','⠤')\n",
    "\n",
    "with open(juktoborno_link, encoding='UTF-8') as juktoborno_csv:\n",
    "    Juktoborno = csv.reader(juktoborno_csv, delimiter=\",\", quotechar='|', quoting=csv.QUOTE_MINIMAL)\n",
    "    for each in Juktoborno:\n",
    "        juktoborno_dict.add(each[0].strip(\"'\"),each[2].strip(\"'\"))\n",
    "\n",
    "\n",
    "with open(juktoborno_3_link, encoding='UTF-8') as juktoborno_3_csv:\n",
    "    Juktoborno_3 = csv.reader(juktoborno_3_csv, delimiter=\",\", quotechar='|', quoting=csv.QUOTE_MINIMAL)\n",
    "    for each in Juktoborno_3:\n",
    "      juktoborno_3_dict.add(each[0].strip(\"'\"),each[2].strip(\"'\"))\n"
   ]
  },
  {
   "cell_type": "code",
   "execution_count": 12,
   "metadata": {},
   "outputs": [],
   "source": [
    "def t2b(low):\n",
    "    i = 0\n",
    "    while i < len(low):\n",
    "        if i < len(low)-1 and low[i] in consonant_dict and low[i+1] in vowel_dict:\n",
    "          if i == 0 or low[i-1] in consonant_dict:\n",
    "            brail.append(consonant_dict.get(low[i]).strip(\" \"))\n",
    "            brail.append(vowel_dict.get('অ'))\n",
    "            brail.append(vowel_dict.get(low[i+1]).strip(\" \"))\n",
    "          else:\n",
    "            brail.append(consonant_dict.get(low[i]).strip(\" \"))\n",
    "            brail.append('⠤')\n",
    "            brail.append(vowel_dict.get(low[i+1]).strip(\" \"))\n",
    "\n",
    "          i += 2\n",
    "        elif i<len(low)-1 and low[i+1] == '্':\n",
    "          jb = []\n",
    "          if i<len(low)-3 and low[i+3] == '্':\n",
    "            for j in range (i,i+5):\n",
    "              jb.append(low[j])\n",
    "            jb2 = ''.join(k for k in jb)\n",
    "            print(brail)\n",
    "            brail.append(juktoborno_3_dict.get(jb2).strip(\" \"))\n",
    "            i += 5\n",
    "          else:\n",
    "            for j in range (i,i+3):\n",
    "              jb.append(low[j])\n",
    "              print(low[j])\n",
    "            jb2 = ''.join(k for k in jb)\n",
    "            brail.append(juktoborno_dict.get(jb2).strip(\" \"))\n",
    "            i += 3\n",
    "        elif i<len(low)-1 and low[i+1] == '়' :\n",
    "            if low[i] == 'ব':\n",
    "              brail.append('⠗')\n",
    "            elif low[i] == 'য':\n",
    "              brail.append('⠢')\n",
    "            elif low[i] == 'ড':\n",
    "              brail.append('⠻')\n",
    "            if low[i] == 'ঢ':\n",
    "              brail.append('⠷')\n",
    "            i=i+2\n",
    "        elif low[i] in vowel_dict:\n",
    "          brail.append(vowel_dict.get(low[i]).strip(\" \"))\n",
    "          i += 1\n",
    "        elif low[i] in consonant_dict:\n",
    "          brail.append(consonant_dict.get(low[i]).strip(\" \"))\n",
    "          i += 1\n",
    "        elif low[i] in kar_dict:\n",
    "          brail.append(kar_dict.get(low[i]).strip(\" \"))\n",
    "          i += 1\n",
    "        elif low[i] in number_dict:\n",
    "          brail.append(number_dict.get(low[i]).strip(\" \"))\n",
    "          i += 1\n",
    "        elif low[i] in punc_dict:\n",
    "          brail.append(punc_dict.get(low[i]).strip(\" \"))\n",
    "          i += 1"
   ]
  },
  {
   "cell_type": "code",
   "execution_count": 21,
   "metadata": {},
   "outputs": [
    {
     "name": "stderr",
     "output_type": "stream",
     "text": [
      "CUDA not available - defaulting to CPU. Note: This module is much faster with a GPU.\n"
     ]
    },
    {
     "name": "stdout",
     "output_type": "stream",
     "text": [
      "প\n",
      "্\n",
      "র\n",
      "ন\n",
      "্\n",
      "ন\n",
      "র\n",
      "্\n",
      "খ\n",
      "গ\n",
      "্\n",
      "র\n",
      "ঠ\n",
      "্\n",
      "য\n",
      "চ\n",
      "্\n",
      "ছ\n",
      "দ\n",
      "্\n",
      "ম\n",
      "ত\n",
      "্\n",
      "র\n",
      "ন\n",
      "্\n",
      "ত\n",
      "র\n",
      "্\n",
      "য\n",
      "র\n",
      "্\n",
      "য\n",
      "স\n",
      "্\n",
      "ত\n",
      "ন\n",
      "্\n",
      "ড\n",
      "দ\n",
      "্\n",
      "দ\n"
     ]
    }
   ],
   "source": [
    "            \n",
    "def select_image():\n",
    "    \n",
    "    file_path = fd.askopenfilename(title='select a image')\n",
    "    text1.delete('1.0', END)\n",
    "    text1.insert(tk.END,file_path)\n",
    "    text1.pack()\n",
    "    pass\n",
    "\n",
    "def convert_ocr():\n",
    "    file_loc = text1.get(\"1.0\",'end-1c')\n",
    "    reader = easyocr.Reader(['bn'])\n",
    "    results = reader.readtext(file_loc)\n",
    "    text = ''\n",
    "    for result in results:\n",
    "        text+= result[1]+' '\n",
    "        pass\n",
    "    text2.insert(tk.END,text)\n",
    "    pass\n",
    "\n",
    "def convert_to_brail():\n",
    "    sentence= text2.get(\"1.0\",'end-1c')\n",
    "    brail.clear()\n",
    "    words = sentence.split(\" \")\n",
    "    for each_word in words:\n",
    "        list_of_word = [k for k in each_word]\n",
    "        t2b(list_of_word)\n",
    "        brail.append(\" \")\n",
    "    final_output = (''.join(br for br in brail))\n",
    "    text3.insert(tk.END,final_output)\n",
    "    pass\n",
    "    \n",
    "\n",
    "root = tk.Tk()\n",
    "root.title(\"Textraille\")\n",
    "root.geometry('1200x700')\n",
    "\n",
    "\n",
    "text1 = Text(root,height=2,width=80)\n",
    "text1.pack()\n",
    "\n",
    "\n",
    "button1 = Button(root, text='Select Image',padx=10,pady=5, command=select_image)\n",
    "button1.pack(pady=10)\n",
    "\n",
    "button2 = Button(root, text='Convert to Text',padx=10,pady=5, command=convert_ocr)\n",
    "button2.pack(pady=10)\n",
    "\n",
    "\n",
    "text2 = Text(root,height=10,width=120)\n",
    "text2.pack()\n",
    "\n",
    "button3 = Button(root, text='Convert to Braille',padx=10,pady=5, command=convert_to_brail)\n",
    "button3.pack(pady=10)\n",
    "\n",
    "text3 = Text(root,height=10,width=120)\n",
    "text3.pack()\n",
    "root.mainloop()\n",
    "\n"
   ]
  },
  {
   "cell_type": "code",
   "execution_count": 20,
   "metadata": {},
   "outputs": [
    {
     "data": {
      "text/plain": [
       "True"
      ]
     },
     "execution_count": 20,
     "metadata": {},
     "output_type": "execute_result"
    }
   ],
   "source": [
    "'অ' in vowel_dict"
   ]
  },
  {
   "cell_type": "code",
   "execution_count": 26,
   "metadata": {},
   "outputs": [
    {
     "ename": "NameError",
     "evalue": "name 'low' is not defined",
     "output_type": "error",
     "traceback": [
      "\u001b[1;31m---------------------------------------------------------------------------\u001b[0m",
      "\u001b[1;31mNameError\u001b[0m                                 Traceback (most recent call last)",
      "\u001b[1;32m~\\AppData\\Local\\Temp/ipykernel_17728/1760784794.py\u001b[0m in \u001b[0;36m<module>\u001b[1;34m\u001b[0m\n\u001b[1;32m----> 1\u001b[1;33m \u001b[0mlow\u001b[0m\u001b[1;33m[\u001b[0m\u001b[0mi\u001b[0m\u001b[1;33m]\u001b[0m\u001b[1;33m\u001b[0m\u001b[1;33m\u001b[0m\u001b[0m\n\u001b[0m",
      "\u001b[1;31mNameError\u001b[0m: name 'low' is not defined"
     ]
    }
   ],
   "source": []
  },
  {
   "cell_type": "code",
   "execution_count": 17,
   "metadata": {},
   "outputs": [
    {
     "ename": "SyntaxError",
     "evalue": "invalid syntax (Temp/ipykernel_9924/3638983940.py, line 1)",
     "output_type": "error",
     "traceback": [
      "\u001b[1;36m  File \u001b[1;32m\"C:\\Users\\user\\AppData\\Local\\Temp/ipykernel_9924/3638983940.py\"\u001b[1;36m, line \u001b[1;32m1\u001b[0m\n\u001b[1;33m    final output\u001b[0m\n\u001b[1;37m               ^\u001b[0m\n\u001b[1;31mSyntaxError\u001b[0m\u001b[1;31m:\u001b[0m invalid syntax\n"
     ]
    }
   ],
   "source": [
    "final output"
   ]
  },
  {
   "cell_type": "code",
   "execution_count": null,
   "metadata": {},
   "outputs": [],
   "source": []
  }
 ],
 "metadata": {
  "kernelspec": {
   "display_name": "Python 3 (ipykernel)",
   "language": "python",
   "name": "python3"
  },
  "language_info": {
   "codemirror_mode": {
    "name": "ipython",
    "version": 3
   },
   "file_extension": ".py",
   "mimetype": "text/x-python",
   "name": "python",
   "nbconvert_exporter": "python",
   "pygments_lexer": "ipython3",
   "version": "3.7.3"
  }
 },
 "nbformat": 4,
 "nbformat_minor": 4
}
